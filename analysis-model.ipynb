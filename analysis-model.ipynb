{
 "cells": [
  {
   "cell_type": "markdown",
   "id": "f14a95e4-1832-448a-95c7-6a325b1faef2",
   "metadata": {},
   "source": [
    "# NOTE:\n",
    "\n",
    "This is a __single-process and multithreaded__ version of the code, which is subject to Python's GIL (global interpreter lock). When processing many datasets, prefer using the multiprocess version in `analysis-model.py`."
   ]
  },
  {
   "cell_type": "code",
   "execution_count": 1,
   "id": "5ad5e51c-a848-4c62-8051-913f8cc62fd3",
   "metadata": {},
   "outputs": [],
   "source": [
    "import numpy as np\n",
    "import pandas as pd\n",
    "import seaborn as sns\n",
    "import scipy.stats\n",
    "import matplotlib.pyplot as plt\n",
    "from pathlib import Path\n",
    "import os"
   ]
  },
  {
   "cell_type": "markdown",
   "id": "88a3db07-08f1-4be5-9229-659ebf8c0834",
   "metadata": {},
   "source": [
    "Definitions:\n",
    "- $W_i$ is the number of votes for the winning party in unit $i$.\n",
    "- $N_i$ is the number of registered voters in unit $i$.\n",
    "- $V_i$ is the number of valid votes in unit $i$."
   ]
  },
  {
   "cell_type": "markdown",
   "id": "f25dfbc7-c3ab-4e16-a52d-13c86233c3f6",
   "metadata": {},
   "source": [
    "# Cleaning steps\n",
    "- Remove N/A rows\n",
    "- Remove units where $W_i = 0$\n",
    "- Remove units where $W_i > N_i$ \n",
    "- Remove units where $N_i < 100$\n",
    "- Remove units in region `\"OAV\"`"
   ]
  },
  {
   "cell_type": "code",
   "execution_count": 2,
   "id": "e1f5a2ad-c403-4dcc-ad88-a6c5859d533d",
   "metadata": {
    "scrolled": true,
    "tags": []
   },
   "outputs": [],
   "source": [
    "def clean(df):\n",
    "    df = df.dropna(thresh=2)\n",
    "    df = df[df[\"votes_bbm\"] > 0]\n",
    "    df = df[df[\"votes_bbm\"] <= df[\"registered_voters\"]]\n",
    "    df = df[df[\"registered_voters\"] >= 100]\n",
    "    df = df[df[\"reg_name\"] != \"OAV\"]\n",
    "    return df"
   ]
  },
  {
   "cell_type": "code",
   "execution_count": 3,
   "id": "86b9c4e2-a296-4423-abdc-499ad3eeaf72",
   "metadata": {},
   "outputs": [
    {
     "data": {
      "text/plain": [
       "dict_keys(['ZAMBALES'])"
      ]
     },
     "execution_count": 3,
     "metadata": {},
     "output_type": "execute_result"
    }
   ],
   "source": [
    "# Load all CSVs in folder\n",
    "path_data_root = Path(\"./datasets\")\n",
    "paths_csv = filter(lambda x : x.suffix == \".csv\", path_data_root.iterdir())\n",
    "# store all datasets in dictionary (filename -> dataframe)\n",
    "dataframes = {path.stem : clean(pd.read_csv(path)) for path in paths_csv}\n",
    "dataframes.keys()"
   ]
  },
  {
   "cell_type": "markdown",
   "id": "b7a026aa-528a-495d-8960-bd1fea53280f",
   "metadata": {},
   "source": [
    "# Implementing the voter model\n",
    "\n",
    "Definitions from the _supplementary notes_ attached to the reference paper.\n",
    "\n",
    "- The average turnout over all units, $\\bar{a}$, is given by\n",
    "$\\displaystyle\\bar{a} = \\frac{1}{n}\\sum_i \\frac{V_i}{N_i}$, with SD $s_a$.\n",
    "\n",
    "- The mean fraction of votes, $\\bar{v}$, is given by\n",
    "$\\displaystyle\\bar{v} = \\frac{1}{n}\\sum_i \\frac{W_i}{V_i}$, with SD $s_v$.\n",
    "\n",
    "- A country is separated into $n$ electoral units (indexed by $i$), and each unit $i$ has an electorate of $N_i$ people and $V_i$ valid votes. In each unit, the number of votes for the winning candidate is $W_i$.\n",
    "\n",
    "- The fraction of valid votes for the winning party in unit $i$ is denoted $v_i$, given by $v_i = \\dfrac{W_i}{V_i}$.\n",
    "- The turnover rate in unit $i$ is denoted $a_i$, given by $a_i = \\dfrac{V_i}{N_i}$."
   ]
  },
  {
   "cell_type": "markdown",
   "id": "4bb26976-8840-4c2f-aca1-e1ad90b85b78",
   "metadata": {},
   "source": [
    "**I. Empirical distributions**\n",
    "\n",
    "We are considering the empirical distribution function (edf) for votes for the winning party, rounded to entire percent values. In other words, for each of the intervals $(0\\%, 0.5\\%], (0.5\\%, 1.5\\%], ..., (98.5\\%, 99.5\\%], (99.5\\%, 100\\%]$, we count how many units $i$ the fraction $v_i = \\dfrac{W_i}{V_i}$ falls within the interval. "
   ]
  },
  {
   "cell_type": "code",
   "execution_count": 4,
   "id": "ee6dd4e8-6ab4-47c3-af52-87691a2f25b4",
   "metadata": {
    "tags": []
   },
   "outputs": [],
   "source": [
    "def compute_edf(df):\n",
    "    # compute all the v_i's\n",
    "    V = df[\"votes_bbm\"] / df[\"total_votes\"]\n",
    "    \n",
    "    # bin into discrete pdf\n",
    "    divisions = 100 # the centers of the intervals are 0..100\n",
    "    binned = pd.cut(V, bins=[x / float(divisions) - 0.005 for x in range(0,divisions+2)])\n",
    "    binned_count = binned.value_counts().sort_index()\n",
    "    intervals = pd.IntervalIndex(binned_count.index)\n",
    "    edf_vi = pd.DataFrame(\n",
    "        {\"x\": (intervals.left + intervals.right) / 2,\n",
    "         \"y\": binned_count})\n",
    "    \n",
    "    # compute all the a_i's\n",
    "    A = df[\"total_votes\"] / df[\"registered_voters\"] \n",
    "    \n",
    "    # bin into discrete pdf\n",
    "    divisions = 100 # the centers of the intervals are 0..100\n",
    "    binned = pd.cut(A, bins=[x / float(divisions) - 0.005 for x in range(0,divisions+2)])\n",
    "    binned_count = binned.value_counts().sort_index()\n",
    "    intervals = pd.IntervalIndex(binned_count.index)\n",
    "    edf_ai = pd.DataFrame(\n",
    "        {\"x\": (intervals.left + intervals.right) / 2,\n",
    "         \"y\": binned_count})\n",
    "    \n",
    "    return [edf_vi, edf_ai]"
   ]
  },
  {
   "cell_type": "markdown",
   "id": "3eb7edac-5eec-4b31-84ed-43ef25f0e2e2",
   "metadata": {},
   "source": [
    "**II. Model Parameters**\n",
    "\n",
    "In order to execute the model, we need to compute the model parameters $v$, $a$, $\\sigma_v^L$, $\\sigma_v^R$, $\\sigma_a$.\n",
    "\n",
    "- $v$ is the number of votes where the empirical distribution function for $v_i$ is maximum. To find $v$, we find the interval with the maximum number of vote ratio, and let $v$ be the center of this interval.\n",
    "\n",
    "- $a$ is the turnout where the empirical distribution function for $a_i$ is maximum. To find $a$, we find the interval with the maximum turnout ratio, and let $a$ be the center of this interval.\n",
    "\n",
    "- $\\sigma_v^L$ is the left-sided mean deviation from $v$. This is computed as $\\displaystyle\\sigma_v^L = \\sqrt{\\left\\langle(v_i - v)^2\\right\\rangle_{v_i < v}}$. The notation $\\left\\langle(v_i - v)^2\\right\\rangle_{v_i < v}$ refers to the expected value of $(v_i - v)^2$ for all $v_i < v$.\n",
    "\n",
    "- $\\sigma_v^R$ is the right-sided mean deviation from $v$. This is computed as $\\displaystyle\\sigma_v^R = \\sqrt{\\left\\langle(v_i - v)^2\\right\\rangle_{v_i > v}}$. \n",
    "\n",
    "- $\\sigma_a$ is computed as $\\displaystyle\\sqrt{\\left\\langle(a_i - a)^2\\right\\rangle_{(a_i < a) \\wedge (v_i < v)}}$.\n",
    "\n",
    "Lastly, based on the reference paper, $\\sigma_x = 0.075$."
   ]
  },
  {
   "cell_type": "code",
   "execution_count": 5,
   "id": "d4f42bf9-e87a-4870-81e6-1abf62163848",
   "metadata": {
    "tags": []
   },
   "outputs": [],
   "source": [
    "def compute_static_model_parameters(df):\n",
    "    #edf = compute_edf(df)\n",
    "    [edf_vi, edf_ai] = compute_edf(df)\n",
    "    \n",
    "    # vote ratio distribution\n",
    "    #V_series = df[\"votes_for_winner_ratio\"]\n",
    "    V_series = df[\"votes_bbm\"] / df[\"total_votes\"]\n",
    "    \n",
    "    # return the entry in column x at the row which maximizes y\n",
    "    v = edf_vi[\"x\"][edf_vi.idxmax().y] \n",
    "    \n",
    "    # turnout distribution\n",
    "    #A_series = df[\"voter_turnout_ratio\"]\n",
    "    A_series = df[\"total_votes\"] / df[\"registered_voters\"]\n",
    "    # return the entry in column x at the row which maximizes y\n",
    "    a = edf_ai[\"x\"][edf_ai.idxmax().y] \n",
    "    \n",
    "    # apply the function (x - v) ** 2 to all entries in the fitered series, \n",
    "    # then get the mean of the resulting series\n",
    "    sv_L = np.sqrt(np.mean(V_series[V_series < v].apply(lambda x: (x - v) ** 2)))\n",
    "    sv_R = np.sqrt(np.mean(V_series[V_series > v].apply(lambda x: (x - v) ** 2)))\n",
    "    sa = np.sqrt(np.mean(A_series[(A_series < a) & (V_series < v)].apply(lambda x: (x - a) ** 2)))\n",
    "    return {\n",
    "        \"v\": v,\n",
    "        \"a\": a,\n",
    "        \"sv_L\": sv_L,\n",
    "        \"sv_R\": sv_R,\n",
    "        \"sa\": sa,\n",
    "        \"sx\": 0.075\n",
    "    }"
   ]
  },
  {
   "cell_type": "markdown",
   "id": "bcff876e-2755-4bd4-91e1-bd879d5e8a65",
   "metadata": {},
   "source": [
    "**III. Generative Model**\n",
    "\n",
    "**1. Fraud Parameters**\n",
    "\n",
    "Probabilities for fraud are assumed to be mutually exclusive. That is, for any given unit $i$,\n",
    "\n",
    "- P(increment fraud) $ =f_i$,\n",
    "\n",
    "- P(extreme fraud) $ =f_e$,\n",
    "\n",
    "- P(no fraud) $ =1-f_i-f_e$.\n",
    "\n",
    "A third fraud parameter $\\alpha$ is used to describe how incremental fraud is carried out.\n",
    "\n",
    "**2. Model Generation**\n",
    "\n",
    "Given the values ``model_param = compute_static_model_parameters()``, and fraud parameters ``f_i``, ``f_e``, ``alpha``, a sample voting data ``opt_gen_model`` is generated as follows:\n",
    "    \n",
    "1. Get the number of voters $N_i =$ ``N`` for unit $i$.\n",
    "    \n",
    "2. Generate the number of valid votes ``a_m``, drawn from $\\mathcal{N}\\left(a,[\\sigma_a]^2\\right)$.\n",
    "\n",
    "3. Generate the number of votes for the winner ``v_m``, drawn from $\\mathcal{N} \\left( v, \\left[\\sqrt{(2)}\\sigma_v^L\\right]^2 \\right)$.\n",
    "\n",
    "4. Generate fraud intensity ``x``, drawn from a folded normal distribution $\\left| \\mathcal{N} \\left(0, \\left[\\sqrt{\\sigma_v^R}\\right]^2 \\right) \\right|$. If ``x`` $\\notin(0,1)$, set ``x``$=0$.\n",
    "\n",
    "    With probability $f_i$, ``v_m`` takes on the value $N\\left[ a_mv_m + x\\left(1-a_m\\right) + x^\\alpha\\left(1-v_m\\right)a_m \\right]$. \n",
    "    \n",
    "5. Generate fraud intensity ``y``, drawn from a folded normal distribution $1-\\left| \\mathcal{N} \\left(1, \\left[\\sigma_x\\right]^2 \\right) \\right|$. If ``y`` $\\notin(0,1)$, set ``y``$=0$.\n",
    "\n",
    "    With probability $f_e$, ``v_m`` takes on the value $N\\left[ a_mv_m + y\\left(1-a_m\\right) + y^\\alpha\\left(1-v_m\\right)a_m \\right]$. "
   ]
  },
  {
   "cell_type": "code",
   "execution_count": 6,
   "id": "5f825c83-3933-4fd8-8af0-a4a3f78ec53f",
   "metadata": {},
   "outputs": [],
   "source": [
    "def opt_gen_model(df, f_i, f_e, alpha, model_param):\n",
    "    # step i (vectorized), pick electorates from the data\n",
    "    N = df[\"registered_voters\"]\n",
    "    n = len(N)\n",
    "    \n",
    "    # step ii and iii (vectorized), compute model turnout and valid votes for winner\n",
    "    a_m = scipy.stats.norm.rvs(loc=model_param[\"a\"], scale=model_param[\"sa\"], size=n)\n",
    "    v_m = scipy.stats.norm.rvs(loc=model_param[\"v\"], scale=np.sqrt(2)*model_param[\"sv_L\"], size=n)\n",
    "    # compute new total votes: total/winner vote should not exceed Ni, so cap them at Ni\n",
    "    new_total_votes = np.minimum(a_m * N, N)\n",
    "    \n",
    "    # step iv (vectorized), compute results if incremental fraud occurs\n",
    "        # generate x_i from folded normal\n",
    "        # if x[i] not in (0,1) set to 0\n",
    "    x = scipy.stats.foldnorm.rvs(loc=0, c=np.sqrt(model_param[\"sv_R\"]), size=n)\n",
    "    x = np.where((x >= 1) | (x <= 0), 0, x)\n",
    "    incremental_fraud_results = N*( (a_m*v_m) + (x*(1-a_m)) + ((x**alpha)*(1-v_m)*a_m) )\n",
    "    \n",
    "    # step v (vectorized), compute results if extreme fraud occurs\n",
    "        # generate y_i from folded normal\n",
    "        # if y[i] not in (0,1) set to 0\n",
    "    y = 1 - scipy.stats.foldnorm.rvs(loc=1, c=model_param[\"sx\"], size=n)\n",
    "    y = np.where((y >= 1) | (y <= 0), 0, y)\n",
    "    extreme_fraud_results = N*( (a_m*v_m) + (y*(1-a_m)) + ((y**alpha)*(1-v_m)*a_m) )\n",
    "    \n",
    "    # selective assignment to each row of new_votes_for_winner depending on random seed\n",
    "    rseed = scipy.stats.uniform.rvs(size=n) # generate n-vector from U(0,1), use scipy for consistency\n",
    "    \n",
    "    # cases for seed\n",
    "    # 0 <= rseed < f_i:         assume incremental fraud occurs\n",
    "    # f_i <= rseed < f_i + f_e: assume extreme fraud occurs\n",
    "    # f_i + f_e <= rseed <= 1:  assume no fraud\n",
    "    new_votes_for_winner = np.select(\n",
    "        [rseed < f_i,\n",
    "         rseed < f_i + f_e,\n",
    "         rseed >= f_i + f_e],\n",
    "        [\n",
    "            incremental_fraud_results,\n",
    "            extreme_fraud_results,\n",
    "            N *a_m * v_m\n",
    "        ]\n",
    "    )\n",
    "    # winner vote should not exceed total and be below 0, so bound them at [0, total]\n",
    "    new_votes_for_winner = np.clip(new_votes_for_winner, 0, new_total_votes)\n",
    "    \n",
    "    return new_votes_for_winner / new_total_votes"
   ]
  },
  {
   "cell_type": "markdown",
   "id": "c9c2b865",
   "metadata": {},
   "source": [
    "`opt_compute_param_table` \n",
    "\n",
    "Computes **one iteration** of the parameter optimization. The implementation uses multithreading; each evaluation of $S(f_i, f_e, \\alpha)$ is split across multiple threads.\n",
    "\n",
    "Runs in around 30 mins CPU time / 16 mins Wall time on an Intel Core i7-11700 CPU.\n",
    "\n",
    "Usage: `opt_compute_param_table(df, \"grid_index.csv\")`\n",
    "\n",
    "Note: `grid_index` contains values for $f_i$, $f_e$, $\\alpha$ to avoid `for` loops"
   ]
  },
  {
   "cell_type": "code",
   "execution_count": 7,
   "id": "0617edc0-83b8-4fab-8fc5-ddd20879f441",
   "metadata": {},
   "outputs": [],
   "source": [
    "import threading\n",
    "import concurrent.futures"
   ]
  },
  {
   "cell_type": "code",
   "execution_count": 8,
   "id": "c03fbe5d-c5b7-4cab-934c-0fdc38facc8c",
   "metadata": {},
   "outputs": [],
   "source": [
    "def loop_iter_thr(df, pdf_vi, model_param, fi, fe, alp,idx):\n",
    "    return (((pdf_vi - opt_gen_model(df,fi,fe,alp, model_param)) / pdf_vi)**2).sum()\n",
    "\n",
    "def opt_compute_param_table(df, grid_index_csv):\n",
    "    global loop_results_S\n",
    "    param_space = pd.read_csv(\"grid_index.csv\")\n",
    "    param_space_n = len(param_space)\n",
    "    \n",
    "    # pdf_vi is constant for all iterations\n",
    "    pdf_vi = df[\"votes_bbm\"] / df[\"total_votes\"]\n",
    "    \n",
    "    # model_param is constant for all iterations\n",
    "    model_param = compute_static_model_parameters(df)\n",
    "\n",
    "    with concurrent.futures.ThreadPoolExecutor(max_workers=None) as executor:\n",
    "        loop_results_S = [x for x in executor.map(loop_iter_thr,\n",
    "                                    *(zip(*((df, pdf_vi, model_param, data[\"f_i\"], data[\"f_e\"], data[\"alpha\"], idx) for idx, data in param_space.iterrows()))))]\n",
    "        \n",
    "    param_space[\"S\"] = loop_results_S\n",
    "        \n",
    "    return param_space"
   ]
  },
  {
   "cell_type": "code",
   "execution_count": 9,
   "id": "0916321f-2d8f-4cfd-b23d-a6ca0f3e362e",
   "metadata": {},
   "outputs": [
    {
     "name": "stdout",
     "output_type": "stream",
     "text": [
      "CPU times: total: 12min 4s\n",
      "Wall time: 11min 23s\n"
     ]
    }
   ],
   "source": [
    "%%time\n",
    "test_results = opt_compute_param_table(dataframes[\"ZAMBALES\"], \"grid_index.csv\")\n"
   ]
  },
  {
   "cell_type": "markdown",
   "id": "2952cbe5-d855-4bc0-984d-1810aed3a461",
   "metadata": {
    "tags": []
   },
   "source": [
    "Computes and saves the parameter table for 100 iterations on all files."
   ]
  },
  {
   "cell_type": "code",
   "execution_count": null,
   "id": "318ad97b-e747-4a4c-918c-5dfda42432db",
   "metadata": {
    "tags": []
   },
   "outputs": [
    {
     "name": "stdout",
     "output_type": "stream",
     "text": [
      "[[ZAMBALES]]\n",
      "end compute it1\n",
      "end compute it2\n",
      "end compute it3\n",
      "end compute it4\n",
      "end compute it5\n",
      "end compute it6\n",
      "end compute it7\n",
      "end compute it8\n",
      "end compute it9\n",
      "end compute it10\n",
      "end compute it11\n",
      "end compute it12\n",
      "end compute it13\n",
      "end compute it14\n",
      "end compute it15\n",
      "end compute it16\n",
      "end compute it17\n",
      "end compute it18\n",
      "end compute it19\n",
      "end compute it20\n",
      "end compute it21\n",
      "end compute it22\n",
      "end compute it23\n",
      "end compute it24\n",
      "end compute it25\n",
      "end compute it26\n",
      "end compute it27\n",
      "end compute it28\n",
      "end compute it29\n",
      "end compute it30\n",
      "end compute it31\n",
      "end compute it32\n",
      "end compute it33\n",
      "end compute it34\n",
      "end compute it35\n",
      "end compute it36\n",
      "end compute it37\n",
      "end compute it38\n",
      "end compute it39\n",
      "end compute it40\n",
      "end compute it41\n",
      "end compute it42\n",
      "end compute it43\n",
      "end compute it44\n",
      "end compute it45\n",
      "end compute it46\n",
      "end compute it47\n",
      "end compute it48\n",
      "end compute it49\n",
      "end compute it50\n",
      "end compute it51\n",
      "end compute it52\n",
      "end compute it53\n",
      "end compute it54\n",
      "end compute it55\n",
      "end compute it56\n",
      "end compute it57\n",
      "end compute it58\n",
      "end compute it59\n",
      "end compute it60\n",
      "end compute it61\n",
      "end compute it62\n",
      "end compute it63\n",
      "end compute it64\n",
      "end compute it65\n",
      "end compute it66\n",
      "end compute it67\n",
      "end compute it68\n",
      "end compute it69\n",
      "end compute it70\n",
      "end compute it71\n",
      "end compute it72\n",
      "end compute it73\n",
      "end compute it74\n",
      "end compute it75\n",
      "end compute it76\n",
      "end compute it77\n",
      "end compute it78\n",
      "end compute it79\n",
      "end compute it80\n",
      "end compute it81\n",
      "end compute it82\n",
      "end compute it83\n",
      "end compute it84\n",
      "end compute it85\n",
      "end compute it86\n",
      "end compute it87\n",
      "end compute it88\n",
      "end compute it89\n",
      "end compute it90\n",
      "end compute it91\n",
      "end compute it92\n",
      "end compute it93\n",
      "end compute it94\n",
      "end compute it95\n",
      "end compute it96\n",
      "end compute it97\n",
      "end compute it98\n",
      "end compute it99\n"
     ]
    }
   ],
   "source": [
    "%%time\n",
    "Path(\"./results-model\").mkdir(exist_ok=True)\n",
    "for filename, df in dataframes.items():\n",
    "    print(f\"[[{filename}]]\")\n",
    "    folder_path = Path(f\"./results-model/{filename}-Scomputations\")\n",
    "    if not folder_path.exists():\n",
    "        os.makedirs(folder_path)\n",
    "    for iteration in range(1,101):\n",
    "        output_path = Path(f\"./results-model/{filename}-Scomputations/iteration{iteration}.csv\")\n",
    "        if output_path.exists():\n",
    "            if iteration %25 == 0:\n",
    "                print(f\"skip it{iteration}\")\n",
    "            continue\n",
    "        param_table = opt_compute_param_table(df, \"grid_index.csv\")\n",
    "        param_table.to_csv(output_path)\n",
    "        print(f\"end compute it{iteration}\")"
   ]
  }
 ],
 "metadata": {
  "kernelspec": {
   "display_name": "Python 3 (ipykernel)",
   "language": "python",
   "name": "python3"
  },
  "language_info": {
   "codemirror_mode": {
    "name": "ipython",
    "version": 3
   },
   "file_extension": ".py",
   "mimetype": "text/x-python",
   "name": "python",
   "nbconvert_exporter": "python",
   "pygments_lexer": "ipython3",
   "version": "3.11.4"
  }
 },
 "nbformat": 4,
 "nbformat_minor": 5
}
