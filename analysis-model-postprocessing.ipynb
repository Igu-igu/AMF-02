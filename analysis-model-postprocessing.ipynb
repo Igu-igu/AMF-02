{
 "cells": [
  {
   "cell_type": "code",
   "execution_count": 1,
   "id": "5d63be4d-20c1-46de-9782-af6117d63aeb",
   "metadata": {},
   "outputs": [],
   "source": [
    "import numpy as np\n",
    "import pandas as pd\n",
    "import seaborn as sns\n",
    "import scipy.stats\n",
    "import matplotlib.pyplot as plt\n",
    "from pathlib import Path\n",
    "import os\n",
    "import re"
   ]
  },
  {
   "cell_type": "code",
   "execution_count": 2,
   "id": "59620a50-3abd-4bca-b551-a4f8a8ded21b",
   "metadata": {},
   "outputs": [],
   "source": [
    "path_data_root = Path(\"./results-model\")\n",
    "paths_csv = filter(lambda x : x.is_dir and x.stem[-13:] == \"Scomputations\", path_data_root.iterdir())\n",
    "# get all data folders\n",
    "data_tags = [x.stem[:-14] for x in paths_csv]"
   ]
  },
  {
   "cell_type": "code",
   "execution_count": 3,
   "id": "35cfac12-47f3-48bd-bf02-b85cb6f043fa",
   "metadata": {},
   "outputs": [],
   "source": [
    "# override\n",
    "data_tags = ['ZAMBALES']"
   ]
  },
  {
   "cell_type": "code",
   "execution_count": 4,
   "id": "9089ebed-3b80-4a43-a59b-0bd4ffe9c385",
   "metadata": {},
   "outputs": [],
   "source": [
    "def find_optimal_parameters(csv_file):\n",
    "    df = pd.read_csv(csv_file,index_col=[0])\n",
    "    idx_min = df.idxmin()[\"S\"]\n",
    "    return df.iloc[[idx_min]].rename((csv_file +'.{}').format)"
   ]
  },
  {
   "cell_type": "code",
   "execution_count": 5,
   "id": "d5abd2e4-fd80-421e-8947-adc1a35d9285",
   "metadata": {},
   "outputs": [
    {
     "name": "stdout",
     "output_type": "stream",
     "text": [
      "CPU times: total: 18.9 s\n",
      "Wall time: 29.7 s\n"
     ]
    }
   ],
   "source": [
    "%%time\n",
    "param_distribs = {}\n",
    "for tag in data_tags:\n",
    "    minS = pd.DataFrame(columns=['f_i', 'f_e','alpha','S'])\n",
    "    for it in range(1, 101):\n",
    "        minS = pd.concat((minS, find_optimal_parameters(f\"results-model/{tag}-Scomputations/iteration{it}.csv\")))\n",
    "    minS.to_csv(f\"results-model/{tag}-min-per-iteration.csv\")\n",
    "    param_distribs[tag] = minS"
   ]
  },
  {
   "cell_type": "code",
   "execution_count": 6,
   "id": "af8bc69a-f167-4e75-92e9-05561c0ef42f",
   "metadata": {},
   "outputs": [
    {
     "data": {
      "text/html": [
       "<div>\n",
       "<style scoped>\n",
       "    .dataframe tbody tr th:only-of-type {\n",
       "        vertical-align: middle;\n",
       "    }\n",
       "\n",
       "    .dataframe tbody tr th {\n",
       "        vertical-align: top;\n",
       "    }\n",
       "\n",
       "    .dataframe thead th {\n",
       "        text-align: right;\n",
       "    }\n",
       "</style>\n",
       "<table border=\"1\" class=\"dataframe\">\n",
       "  <thead>\n",
       "    <tr style=\"text-align: right;\">\n",
       "      <th></th>\n",
       "      <th>Set</th>\n",
       "      <th>variable</th>\n",
       "      <th>value</th>\n",
       "    </tr>\n",
       "  </thead>\n",
       "  <tbody>\n",
       "    <tr>\n",
       "      <th>0</th>\n",
       "      <td>ZAMBALES</td>\n",
       "      <td>f_i</td>\n",
       "      <td>0.010000</td>\n",
       "    </tr>\n",
       "    <tr>\n",
       "      <th>1</th>\n",
       "      <td>ZAMBALES</td>\n",
       "      <td>f_i</td>\n",
       "      <td>0.010000</td>\n",
       "    </tr>\n",
       "    <tr>\n",
       "      <th>2</th>\n",
       "      <td>ZAMBALES</td>\n",
       "      <td>f_i</td>\n",
       "      <td>0.000000</td>\n",
       "    </tr>\n",
       "    <tr>\n",
       "      <th>3</th>\n",
       "      <td>ZAMBALES</td>\n",
       "      <td>f_i</td>\n",
       "      <td>0.010000</td>\n",
       "    </tr>\n",
       "    <tr>\n",
       "      <th>4</th>\n",
       "      <td>ZAMBALES</td>\n",
       "      <td>f_i</td>\n",
       "      <td>0.010000</td>\n",
       "    </tr>\n",
       "    <tr>\n",
       "      <th>...</th>\n",
       "      <td>...</td>\n",
       "      <td>...</td>\n",
       "      <td>...</td>\n",
       "    </tr>\n",
       "    <tr>\n",
       "      <th>395</th>\n",
       "      <td>ZAMBALES</td>\n",
       "      <td>S</td>\n",
       "      <td>37.033861</td>\n",
       "    </tr>\n",
       "    <tr>\n",
       "      <th>396</th>\n",
       "      <td>ZAMBALES</td>\n",
       "      <td>S</td>\n",
       "      <td>37.622851</td>\n",
       "    </tr>\n",
       "    <tr>\n",
       "      <th>397</th>\n",
       "      <td>ZAMBALES</td>\n",
       "      <td>S</td>\n",
       "      <td>36.707026</td>\n",
       "    </tr>\n",
       "    <tr>\n",
       "      <th>398</th>\n",
       "      <td>ZAMBALES</td>\n",
       "      <td>S</td>\n",
       "      <td>36.333872</td>\n",
       "    </tr>\n",
       "    <tr>\n",
       "      <th>399</th>\n",
       "      <td>ZAMBALES</td>\n",
       "      <td>S</td>\n",
       "      <td>35.942194</td>\n",
       "    </tr>\n",
       "  </tbody>\n",
       "</table>\n",
       "<p>400 rows × 3 columns</p>\n",
       "</div>"
      ],
      "text/plain": [
       "          Set variable      value\n",
       "0    ZAMBALES      f_i   0.010000\n",
       "1    ZAMBALES      f_i   0.010000\n",
       "2    ZAMBALES      f_i   0.000000\n",
       "3    ZAMBALES      f_i   0.010000\n",
       "4    ZAMBALES      f_i   0.010000\n",
       "..        ...      ...        ...\n",
       "395  ZAMBALES        S  37.033861\n",
       "396  ZAMBALES        S  37.622851\n",
       "397  ZAMBALES        S  36.707026\n",
       "398  ZAMBALES        S  36.333872\n",
       "399  ZAMBALES        S  35.942194\n",
       "\n",
       "[400 rows x 3 columns]"
      ]
     },
     "execution_count": 6,
     "metadata": {},
     "output_type": "execute_result"
    }
   ],
   "source": [
    " # combined data frame\n",
    "cdf = pd.concat([param_distribs[tag].assign(Set=tag) for tag in data_tags])\n",
    "# melted data frame\n",
    "mdf = pd.melt(cdf, id_vars=[\"Set\"])\n",
    "mdf"
   ]
  },
  {
   "cell_type": "code",
   "execution_count": 7,
   "id": "311a0f23-7c01-427a-aaef-b2a13b4afce5",
   "metadata": {},
   "outputs": [
    {
     "data": {
      "text/html": [
       "<div>\n",
       "<style scoped>\n",
       "    .dataframe tbody tr th:only-of-type {\n",
       "        vertical-align: middle;\n",
       "    }\n",
       "\n",
       "    .dataframe tbody tr th {\n",
       "        vertical-align: top;\n",
       "    }\n",
       "\n",
       "    .dataframe thead th {\n",
       "        text-align: right;\n",
       "    }\n",
       "</style>\n",
       "<table border=\"1\" class=\"dataframe\">\n",
       "  <thead>\n",
       "    <tr style=\"text-align: right;\">\n",
       "      <th></th>\n",
       "      <th>Set</th>\n",
       "      <th>variable</th>\n",
       "      <th>value</th>\n",
       "    </tr>\n",
       "  </thead>\n",
       "  <tbody>\n",
       "    <tr>\n",
       "      <th>0</th>\n",
       "      <td>ZAMBALES</td>\n",
       "      <td>f_i</td>\n",
       "      <td>0.010000</td>\n",
       "    </tr>\n",
       "    <tr>\n",
       "      <th>1</th>\n",
       "      <td>ZAMBALES</td>\n",
       "      <td>f_i</td>\n",
       "      <td>0.010000</td>\n",
       "    </tr>\n",
       "    <tr>\n",
       "      <th>2</th>\n",
       "      <td>ZAMBALES</td>\n",
       "      <td>f_i</td>\n",
       "      <td>0.000000</td>\n",
       "    </tr>\n",
       "    <tr>\n",
       "      <th>3</th>\n",
       "      <td>ZAMBALES</td>\n",
       "      <td>f_i</td>\n",
       "      <td>0.010000</td>\n",
       "    </tr>\n",
       "    <tr>\n",
       "      <th>4</th>\n",
       "      <td>ZAMBALES</td>\n",
       "      <td>f_i</td>\n",
       "      <td>0.010000</td>\n",
       "    </tr>\n",
       "    <tr>\n",
       "      <th>...</th>\n",
       "      <td>...</td>\n",
       "      <td>...</td>\n",
       "      <td>...</td>\n",
       "    </tr>\n",
       "    <tr>\n",
       "      <th>395</th>\n",
       "      <td>ZAMBALES</td>\n",
       "      <td>S</td>\n",
       "      <td>37.033861</td>\n",
       "    </tr>\n",
       "    <tr>\n",
       "      <th>396</th>\n",
       "      <td>ZAMBALES</td>\n",
       "      <td>S</td>\n",
       "      <td>37.622851</td>\n",
       "    </tr>\n",
       "    <tr>\n",
       "      <th>397</th>\n",
       "      <td>ZAMBALES</td>\n",
       "      <td>S</td>\n",
       "      <td>36.707026</td>\n",
       "    </tr>\n",
       "    <tr>\n",
       "      <th>398</th>\n",
       "      <td>ZAMBALES</td>\n",
       "      <td>S</td>\n",
       "      <td>36.333872</td>\n",
       "    </tr>\n",
       "    <tr>\n",
       "      <th>399</th>\n",
       "      <td>ZAMBALES</td>\n",
       "      <td>S</td>\n",
       "      <td>35.942194</td>\n",
       "    </tr>\n",
       "  </tbody>\n",
       "</table>\n",
       "<p>400 rows × 3 columns</p>\n",
       "</div>"
      ],
      "text/plain": [
       "          Set variable      value\n",
       "0    ZAMBALES      f_i   0.010000\n",
       "1    ZAMBALES      f_i   0.010000\n",
       "2    ZAMBALES      f_i   0.000000\n",
       "3    ZAMBALES      f_i   0.010000\n",
       "4    ZAMBALES      f_i   0.010000\n",
       "..        ...      ...        ...\n",
       "395  ZAMBALES        S  37.033861\n",
       "396  ZAMBALES        S  37.622851\n",
       "397  ZAMBALES        S  36.707026\n",
       "398  ZAMBALES        S  36.333872\n",
       "399  ZAMBALES        S  35.942194\n",
       "\n",
       "[400 rows x 3 columns]"
      ]
     },
     "execution_count": 7,
     "metadata": {},
     "output_type": "execute_result"
    }
   ],
   "source": [
    "mdf"
   ]
  },
  {
   "cell_type": "code",
   "execution_count": 8,
   "id": "a3f39668-d6e0-4270-b082-c0d62b001253",
   "metadata": {},
   "outputs": [],
   "source": [
    "formatted_mdf = mdf.replace(to_replace=\"f_i\", value=\"$f_i$\").replace(to_replace=\"f_e\", value=\"$f_e$\")"
   ]
  },
  {
   "cell_type": "code",
   "execution_count": 9,
   "id": "2f46fea4-8af0-451e-bfd1-3f5bf6fc2915",
   "metadata": {},
   "outputs": [
    {
     "data": {
      "image/png": "[encoded data removed]",
      "text/plain": [
       "<Figure size 500x100 with 1 Axes>"
      ]
     },
     "metadata": {},
     "output_type": "display_data"
    }
   ],
   "source": [
    "sns.set(rc={'figure.figsize':(5,1)})\n",
    "sns.boxplot(x=\"value\", y =\"variable\", data=formatted_mdf.query(\"variable == '$f_e$' or variable == '$f_i$'\")).set(\n",
    "    xlabel='', ylabel=\"\", xlim = (-0.05,1.05)\n",
    ")\n",
    "plt.savefig(\"brg-nationwide-parameter-estimated.png\")"
   ]
  },
  {
   "cell_type": "code",
   "execution_count": 10,
   "id": "2cd0e72c-7b84-4548-b023-295fbdcf38f4",
   "metadata": {},
   "outputs": [
    {
     "data": {
      "text/plain": [
       "count    100.000000\n",
       "mean       0.443700\n",
       "std        0.263618\n",
       "min        0.000000\n",
       "25%        0.237500\n",
       "50%        0.425000\n",
       "75%        0.625000\n",
       "max        1.000000\n",
       "Name: value, dtype: float64"
      ]
     },
     "execution_count": 10,
     "metadata": {},
     "output_type": "execute_result"
    }
   ],
   "source": [
    "formatted_mdf.query(\"variable == '$f_e$'\")[\"value\"].describe()"
   ]
  },
  {
   "cell_type": "code",
   "execution_count": 11,
   "id": "96c00fbc-fcff-4fea-8e38-464fc0e941e9",
   "metadata": {},
   "outputs": [
    {
     "data": {
      "text/plain": [
       "results-model/ZAMBALES-Scomputations/iteration1.csv.7615       0.48\n",
       "results-model/ZAMBALES-Scomputations/iteration2.csv.8544       0.66\n",
       "results-model/ZAMBALES-Scomputations/iteration3.csv.2370       0.46\n",
       "results-model/ZAMBALES-Scomputations/iteration4.csv.8294       0.61\n",
       "results-model/ZAMBALES-Scomputations/iteration5.csv.6026       0.17\n",
       "                                                               ... \n",
       "results-model/ZAMBALES-Scomputations/iteration96.csv.1925      0.37\n",
       "results-model/ZAMBALES-Scomputations/iteration97.csv.7783      0.51\n",
       "results-model/ZAMBALES-Scomputations/iteration98.csv.8113      0.58\n",
       "results-model/ZAMBALES-Scomputations/iteration99.csv.5600      0.08\n",
       "results-model/ZAMBALES-Scomputations/iteration100.csv.10131    0.97\n",
       "Name: f_e, Length: 100, dtype: float64"
      ]
     },
     "execution_count": 11,
     "metadata": {},
     "output_type": "execute_result"
    }
   ],
   "source": [
    "minS[\"f_e\"]"
   ]
  },
  {
   "cell_type": "code",
   "execution_count": 12,
   "id": "3ffdb9d7-b345-46a2-8ded-b73f79bd6519",
   "metadata": {},
   "outputs": [
    {
     "data": {
      "text/plain": [
       "DescribeResult(nobs=100, minmax=(0.0, 1.0), mean=0.44369999999999993, variance=0.06949425252525251, skewness=0.2055385264895753, kurtosis=-0.8416161442543064)"
      ]
     },
     "execution_count": 12,
     "metadata": {},
     "output_type": "execute_result"
    }
   ],
   "source": [
    "scipy.stats.describe(minS[\"f_e\"])"
   ]
  },
  {
   "cell_type": "code",
   "execution_count": 13,
   "id": "22a8cdef-da68-489b-bd12-d0775e9cf46d",
   "metadata": {},
   "outputs": [
    {
     "data": {
      "text/plain": [
       "1.5161950796809518"
      ]
     },
     "execution_count": 13,
     "metadata": {},
     "output_type": "execute_result"
    }
   ],
   "source": [
    "0.3942/np.sqrt(0.06759632323232324)"
   ]
  },
  {
   "cell_type": "markdown",
   "id": "cc7d6e54-c5d5-471b-8b51-7b672f18b8f7",
   "metadata": {},
   "source": [
    "# Boxplot comparison"
   ]
  },
  {
   "cell_type": "code",
   "execution_count": null,
   "id": "b9d55cc8-22f5-4366-9579-b823b1c42597",
   "metadata": {},
   "outputs": [],
   "source": []
  },
  {
   "cell_type": "code",
   "execution_count": 14,
   "id": "595d5c69-31ac-42e1-ad7a-6144b0f174ab",
   "metadata": {},
   "outputs": [
    {
     "data": {
      "text/html": [
       "<div>\n",
       "<style scoped>\n",
       "    .dataframe tbody tr th:only-of-type {\n",
       "        vertical-align: middle;\n",
       "    }\n",
       "\n",
       "    .dataframe tbody tr th {\n",
       "        vertical-align: top;\n",
       "    }\n",
       "\n",
       "    .dataframe thead th {\n",
       "        text-align: right;\n",
       "    }\n",
       "</style>\n",
       "<table border=\"1\" class=\"dataframe\">\n",
       "  <thead>\n",
       "    <tr style=\"text-align: right;\">\n",
       "      <th></th>\n",
       "      <th>Set</th>\n",
       "      <th>variable</th>\n",
       "      <th>value</th>\n",
       "    </tr>\n",
       "  </thead>\n",
       "  <tbody>\n",
       "    <tr>\n",
       "      <th>0</th>\n",
       "      <td>ZAMBALES</td>\n",
       "      <td>f_i</td>\n",
       "      <td>0.01</td>\n",
       "    </tr>\n",
       "    <tr>\n",
       "      <th>1</th>\n",
       "      <td>ZAMBALES</td>\n",
       "      <td>f_i</td>\n",
       "      <td>0.01</td>\n",
       "    </tr>\n",
       "    <tr>\n",
       "      <th>2</th>\n",
       "      <td>ZAMBALES</td>\n",
       "      <td>f_i</td>\n",
       "      <td>0.00</td>\n",
       "    </tr>\n",
       "    <tr>\n",
       "      <th>3</th>\n",
       "      <td>ZAMBALES</td>\n",
       "      <td>f_i</td>\n",
       "      <td>0.01</td>\n",
       "    </tr>\n",
       "    <tr>\n",
       "      <th>4</th>\n",
       "      <td>ZAMBALES</td>\n",
       "      <td>f_i</td>\n",
       "      <td>0.01</td>\n",
       "    </tr>\n",
       "    <tr>\n",
       "      <th>...</th>\n",
       "      <td>...</td>\n",
       "      <td>...</td>\n",
       "      <td>...</td>\n",
       "    </tr>\n",
       "    <tr>\n",
       "      <th>95</th>\n",
       "      <td>ZAMBALES</td>\n",
       "      <td>f_i</td>\n",
       "      <td>0.00</td>\n",
       "    </tr>\n",
       "    <tr>\n",
       "      <th>96</th>\n",
       "      <td>ZAMBALES</td>\n",
       "      <td>f_i</td>\n",
       "      <td>0.01</td>\n",
       "    </tr>\n",
       "    <tr>\n",
       "      <th>97</th>\n",
       "      <td>ZAMBALES</td>\n",
       "      <td>f_i</td>\n",
       "      <td>0.01</td>\n",
       "    </tr>\n",
       "    <tr>\n",
       "      <th>98</th>\n",
       "      <td>ZAMBALES</td>\n",
       "      <td>f_i</td>\n",
       "      <td>0.01</td>\n",
       "    </tr>\n",
       "    <tr>\n",
       "      <th>99</th>\n",
       "      <td>ZAMBALES</td>\n",
       "      <td>f_i</td>\n",
       "      <td>0.01</td>\n",
       "    </tr>\n",
       "  </tbody>\n",
       "</table>\n",
       "<p>100 rows × 3 columns</p>\n",
       "</div>"
      ],
      "text/plain": [
       "         Set variable  value\n",
       "0   ZAMBALES      f_i   0.01\n",
       "1   ZAMBALES      f_i   0.01\n",
       "2   ZAMBALES      f_i   0.00\n",
       "3   ZAMBALES      f_i   0.01\n",
       "4   ZAMBALES      f_i   0.01\n",
       "..       ...      ...    ...\n",
       "95  ZAMBALES      f_i   0.00\n",
       "96  ZAMBALES      f_i   0.01\n",
       "97  ZAMBALES      f_i   0.01\n",
       "98  ZAMBALES      f_i   0.01\n",
       "99  ZAMBALES      f_i   0.01\n",
       "\n",
       "[100 rows x 3 columns]"
      ]
     },
     "execution_count": 14,
     "metadata": {},
     "output_type": "execute_result"
    }
   ],
   "source": [
    "mdf.query(\"variable == 'f_i'\")"
   ]
  }
 ],
 "metadata": {
  "kernelspec": {
   "display_name": "Python 3 (ipykernel)",
   "language": "python",
   "name": "python3"
  },
  "language_info": {
   "codemirror_mode": {
    "name": "ipython",
    "version": 3
   },
   "file_extension": ".py",
   "mimetype": "text/x-python",
   "name": "python",
   "nbconvert_exporter": "python",
   "pygments_lexer": "ipython3",
   "version": "3.11.4"
  }
 },
 "nbformat": 4,
 "nbformat_minor": 5
}
